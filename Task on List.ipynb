{
 "cells": [
  {
   "cell_type": "code",
   "execution_count": 1,
   "id": "42669f08-6498-489c-b620-62866991db0f",
   "metadata": {},
   "outputs": [
    {
     "name": "stdout",
     "output_type": "stream",
     "text": [
      "Original a_list: [1, 'hello', [1, 2, 3], True]\n"
     ]
    }
   ],
   "source": [
    "# 1. Create a list a_list with the specified elements.\n",
    "a_list = [1, 'hello', [1, 2, 3], True]\n",
    "print(f\"Original a_list: {a_list}\")"
   ]
  },
  {
   "cell_type": "code",
   "execution_count": 2,
   "id": "2c89a6f3-aca5-4efa-bcdd-b01111bbedd9",
   "metadata": {},
   "outputs": [
    {
     "name": "stdout",
     "output_type": "stream",
     "text": [
      "Value at index 1 of a_list: hello\n"
     ]
    }
   ],
   "source": [
    "# 2. Find the value stored at index 1 of a_list.\n",
    "value_at_index_1 = a_list[1]\n",
    "print(f\"Value at index 1 of a_list: {value_at_index_1}\")"
   ]
  },
  {
   "cell_type": "code",
   "execution_count": 3,
   "id": "e4f3720d-5b2b-48f2-a1ab-f3e867b33b79",
   "metadata": {},
   "outputs": [
    {
     "name": "stdout",
     "output_type": "stream",
     "text": [
      "Elements at index 1, 2, and 3 of a_list: ['hello', [1, 2, 3], True]\n"
     ]
    }
   ],
   "source": [
    "\n",
    "# 3. Retrieve the elements stored at index 1, 2, and 3 of a_list.\n",
    "# We can use slicing to get a range of elements.\n",
    "elements_sliced = a_list[1:4] # Slicing goes up to (but not including) the end index\n",
    "print(f\"Elements at index 1, 2, and 3 of a_list: {elements_sliced}\")"
   ]
  },
  {
   "cell_type": "code",
   "execution_count": 4,
   "id": "361e6cba-732b-4e64-9be7-16d994b6b58b",
   "metadata": {},
   "outputs": [
    {
     "name": "stdout",
     "output_type": "stream",
     "text": [
      "Individual elements: Index 1: hello, Index 2: [1, 2, 3], Index 3: True\n"
     ]
    }
   ],
   "source": [
    "# Alternatively, access them individually:\n",
    "element_1 = a_list[1]\n",
    "element_2 = a_list[2]\n",
    "element_3 = a_list[3]\n",
    "print(f\"Individual elements: Index 1: {element_1}, Index 2: {element_2}, Index 3: {element_3}\")"
   ]
  },
  {
   "cell_type": "code",
   "execution_count": 5,
   "id": "5d09c7b2-ec88-4028-bbfb-2c3b660b7661",
   "metadata": {},
   "outputs": [
    {
     "name": "stdout",
     "output_type": "stream",
     "text": [
      "List A: [1, 'a']\n",
      "List B: [2, 1, 'd']\n",
      "Concatenated list (A + B): [1, 'a', 2, 1, 'd']\n"
     ]
    }
   ],
   "source": [
    "# 4. Concatenate the following lists A = [1, 'a'] and B = [2, 1, 'd'].\n",
    "A = [1, 'a']\n",
    "B = [2, 1, 'd']\n",
    "\n",
    "concatenated_list = A + B\n",
    "print(f\"List A: {A}\")\n",
    "print(f\"List B: {B}\")\n",
    "print(f\"Concatenated list (A + B): {concatenated_list}\")"
   ]
  },
  {
   "cell_type": "code",
   "execution_count": 6,
   "id": "d59d29d3-cb9d-46b5-86dd-7b87f1633d86",
   "metadata": {},
   "outputs": [
    {
     "name": "stdout",
     "output_type": "stream",
     "text": [
      "Task-1: Empty shopping_list: []\n"
     ]
    }
   ],
   "source": [
    "# TASK b: Shopping List Operations\n",
    "\n",
    "# Task-1 Create an empty list: shopping_list\n",
    "shopping_list = []\n",
    "print(f\"Task-1: Empty shopping_list: {shopping_list}\")\n"
   ]
  },
  {
   "cell_type": "code",
   "execution_count": 7,
   "id": "fb17e391-7c66-418e-876b-f99dfc16df81",
   "metadata": {},
   "outputs": [
    {
     "name": "stdout",
     "output_type": "stream",
     "text": [
      "Task-2: shopping_list after adding initial items: ['Watch', 'Laptop', 'Shoes', 'Pen', 'Clothes']\n"
     ]
    }
   ],
   "source": [
    "# Task-2 Now store the number of items to the shopping_list\n",
    "# 1. Watch\n",
    "# 2. Laptop\n",
    "# 3. Shoes\n",
    "# 4. Pen\n",
    "# 5. Clothes\n",
    "shopping_list.append(\"Watch\")\n",
    "shopping_list.append(\"Laptop\")\n",
    "shopping_list.append(\"Shoes\")\n",
    "shopping_list.append(\"Pen\")\n",
    "shopping_list.append(\"Clothes\")\n",
    "print(f\"Task-2: shopping_list after adding initial items: {shopping_list}\")"
   ]
  },
  {
   "cell_type": "code",
   "execution_count": 8,
   "id": "304b2d7d-c164-4657-9aa4-12a77785f801",
   "metadata": {},
   "outputs": [
    {
     "name": "stdout",
     "output_type": "stream",
     "text": [
      "Task-3: shopping_list after adding 'Football': ['Watch', 'Laptop', 'Shoes', 'Pen', 'Clothes', 'Football']\n"
     ]
    }
   ],
   "source": [
    "# Task-3 Add a new item “Football” to the shopping_list\n",
    "shopping_list.append(\"Football\")\n",
    "print(f\"Task-3: shopping_list after adding 'Football': {shopping_list}\")"
   ]
  },
  {
   "cell_type": "code",
   "execution_count": 9,
   "id": "183f96be-372a-436d-a74e-862d726af9e9",
   "metadata": {},
   "outputs": [
    {
     "name": "stdout",
     "output_type": "stream",
     "text": [
      "Task-4: First item in shopping_list: Watch\n"
     ]
    }
   ],
   "source": [
    "# Task-4 Print First item from the shopping_list\n",
    "first_item = shopping_list[0]\n",
    "print(f\"Task-4: First item in shopping_list: {first_item}\")"
   ]
  },
  {
   "cell_type": "code",
   "execution_count": 10,
   "id": "2a9a4c30-4322-44ed-9344-913f0123f7ba",
   "metadata": {},
   "outputs": [
    {
     "name": "stdout",
     "output_type": "stream",
     "text": [
      "Task-5: Last item in shopping_list: Football\n"
     ]
    }
   ],
   "source": [
    "# Task-5 Print Last item from the shopping_list\n",
    "last_item = shopping_list[-1] # -1 accesses the last element\n",
    "print(f\"Task-5: Last item in shopping_list: {last_item}\")"
   ]
  },
  {
   "cell_type": "code",
   "execution_count": 12,
   "id": "ebcf3aa0-9283-4277-9eb1-90aa82979235",
   "metadata": {},
   "outputs": [
    {
     "name": "stdout",
     "output_type": "stream",
     "text": [
      "Entire Shopping List: ['Watch', 'Laptop', 'Shoes', 'Pen', 'Clothes', 'Football']\n"
     ]
    }
   ],
   "source": [
    "# Task-6: Print the entire Shopping List\n",
    "print(\"Entire Shopping List:\", shopping_list)"
   ]
  },
  {
   "cell_type": "code",
   "execution_count": 13,
   "id": "90308dc8-e3ef-4f98-ace7-18f1298e31f5",
   "metadata": {},
   "outputs": [
    {
     "name": "stdout",
     "output_type": "stream",
     "text": [
      "Task-7: Important items from shopping_list (Watch, Laptop): ['Watch', 'Laptop']\n"
     ]
    }
   ],
   "source": [
    "# Task-7 Print the item that are important to buy from the Shopping List\n",
    "# Assuming \"Watch\" and \"Laptop\" are important items for demonstration.\n",
    "# In a real scenario, importance would be determined by other criteria.\n",
    "important_items = [shopping_list[0], shopping_list[1]] # Watch and Laptop\n",
    "print(f\"Task-7: Important items from shopping_list (Watch, Laptop): {important_items}\")"
   ]
  },
  {
   "cell_type": "code",
   "execution_count": 14,
   "id": "20e675ca-82d1-4950-92bc-a06a211771de",
   "metadata": {},
   "outputs": [
    {
     "name": "stdout",
     "output_type": "stream",
     "text": [
      "Task-8: shopping_list after changing 'Pen' to 'Notebook': ['Watch', 'Laptop', 'Shoes', 'Notebook', 'Clothes', 'Football']\n"
     ]
    }
   ],
   "source": [
    "# Task-8 Change the item from the shopping_list (“Pen” to “Notebook”)\n",
    "try:\n",
    "    pen_index = shopping_list.index(\"Pen\") # Find the index of \"Pen\"\n",
    "    shopping_list[pen_index] = \"Notebook\" # Change the item at that index\n",
    "    print(f\"Task-8: shopping_list after changing 'Pen' to 'Notebook': {shopping_list}\")\n",
    "except ValueError:\n",
    "    print(\"Task-8: 'Pen' not found in the list.\")"
   ]
  },
  {
   "cell_type": "code",
   "execution_count": 15,
   "id": "a3b407b5-d495-4cfd-beba-e5a88bfc5016",
   "metadata": {},
   "outputs": [
    {
     "name": "stdout",
     "output_type": "stream",
     "text": [
      "Task-9: shopping_list after deleting 'Clothes': ['Watch', 'Laptop', 'Shoes', 'Notebook', 'Football']\n"
     ]
    }
   ],
   "source": [
    "# Task-9 Delete the item from the shopping_list that is not required (Delete “Clothes”)\n",
    "try:\n",
    "    shopping_list.remove(\"Clothes\") # Remove \"Clothes\" by its value\n",
    "    print(f\"Task-9: shopping_list after deleting 'Clothes': {shopping_list}\")\n",
    "except ValueError:\n",
    "    print(\"Task-9: 'Clothes' not found in the list.\")\n"
   ]
  },
  {
   "cell_type": "code",
   "execution_count": 16,
   "id": "d2457615-cd32-44ec-b2a1-445d7e15eaca",
   "metadata": {},
   "outputs": [
    {
     "name": "stdout",
     "output_type": "stream",
     "text": [
      "Task-10: Final shopping_list: ['Watch', 'Laptop', 'Shoes', 'Notebook', 'Football']\n"
     ]
    }
   ],
   "source": [
    "# Task-10 Print the shopping list\n",
    "print(f\"Task-10: Final shopping_list: {shopping_list}\")"
   ]
  },
  {
   "cell_type": "code",
   "execution_count": 18,
   "id": "f8c1ea76-e752-45b7-9543-624d7d6d1ba6",
   "metadata": {},
   "outputs": [
    {
     "name": "stdout",
     "output_type": "stream",
     "text": [
      "Original genres_tuple: ('pop', 'rock', 'soul', 'hard rock', 'soft rock', 'R&B', 'progressive rock', 'disco')\n",
      "\n"
     ]
    }
   ],
   "source": [
    "# Sample tuple provided in the image\n",
    "genres_tuple = (\"pop\", \"rock\", \"soul\", \"hard rock\", \"soft rock\",\n",
    "                \"R&B\", \"progressive rock\", \"disco\")\n",
    "print(f\"Original genres_tuple: {genres_tuple}\\n\")"
   ]
  },
  {
   "cell_type": "code",
   "execution_count": 19,
   "id": "85d5f350-1ec8-44af-82be-4f601c676c11",
   "metadata": {},
   "outputs": [
    {
     "name": "stdout",
     "output_type": "stream",
     "text": [
      "1. Length of genres_tuple: 8\n",
      "\n"
     ]
    }
   ],
   "source": [
    "# 1. Find the length of the tuple, genres_tuple:\n",
    "tuple_length = len(genres_tuple)\n",
    "print(f\"1. Length of genres_tuple: {tuple_length}\\n\")"
   ]
  },
  {
   "cell_type": "code",
   "execution_count": 20,
   "id": "e38bc165-118c-429b-8e3a-93d78925876f",
   "metadata": {},
   "outputs": [
    {
     "name": "stdout",
     "output_type": "stream",
     "text": [
      "2. Element at index 3 of genres_tuple: hard rock\n",
      "\n"
     ]
    }
   ],
   "source": [
    "# 2. Access the element, with respect to index 3:\n",
    "element_at_index_3 = genres_tuple[3]\n",
    "print(f\"2. Element at index 3 of genres_tuple: {element_at_index_3}\\n\")"
   ]
  },
  {
   "cell_type": "code",
   "execution_count": 21,
   "id": "381bd0ce-91e3-462a-9644-0ee1ecbf15b9",
   "metadata": {},
   "outputs": [
    {
     "name": "stdout",
     "output_type": "stream",
     "text": [
      "3. Elements at indexes 3, 4, and 5: ('hard rock', 'soft rock', 'R&B')\n",
      "\n"
     ]
    }
   ],
   "source": [
    "# 3. Use slicing to obtain indexes 3, 4 and 5\n",
    "# Slicing is [start:end], where 'end' is exclusive. So for indexes 3, 4, 5, we need [3:6].\n",
    "sliced_elements = genres_tuple[3:6]\n",
    "print(f\"3. Elements at indexes 3, 4, and 5: {sliced_elements}\\n\")\n"
   ]
  },
  {
   "cell_type": "code",
   "execution_count": 22,
   "id": "b9082ac4-814d-4b4e-b3bf-a75cae12172b",
   "metadata": {},
   "outputs": [
    {
     "name": "stdout",
     "output_type": "stream",
     "text": [
      "4. First two elements of genres_tuple: ('pop', 'rock')\n",
      "\n"
     ]
    }
   ],
   "source": [
    "# 4. Find the first two elements of the tuple genres_tuple:\n",
    "first_two_elements = genres_tuple[0:2] # Or simply genres_tuple[:2]\n",
    "print(f\"4. First two elements of genres_tuple: {first_two_elements}\\n\")"
   ]
  },
  {
   "cell_type": "code",
   "execution_count": 23,
   "id": "35dd5cd2-891b-4431-89aa-60dad9889a2b",
   "metadata": {},
   "outputs": [
    {
     "name": "stdout",
     "output_type": "stream",
     "text": [
      "5. Index of 's' in 'disco': 2\n",
      "\n"
     ]
    }
   ],
   "source": [
    "# 5. Find the index of 's' in \"disco\":\n",
    "# First, get the 'disco' string from the tuple\n",
    "disco_string = genres_tuple[7] # \"disco\" is at index 7\n",
    "# Then find the index of 's' within that string\n",
    "index_of_s_in_disco = disco_string.index('s')\n",
    "print(f\"5. Index of 's' in 'disco': {index_of_s_in_disco}\\n\")"
   ]
  },
  {
   "cell_type": "code",
   "execution_count": 24,
   "id": "58c3dee0-f1ac-4e3a-9694-3fd95150cc23",
   "metadata": {},
   "outputs": [
    {
     "name": "stdout",
     "output_type": "stream",
     "text": [
      "6. Original C_tuple: (-5, 1, -3)\n",
      "   Sorted List from C_tuple: [-5, -3, 1]\n"
     ]
    }
   ],
   "source": [
    "# 6. Generate a sorted List from the Tuple C_tuple=(-5, 1, -3):\n",
    "C_tuple = (-5, 1, -3)\n",
    "sorted_list_from_C_tuple = sorted(C_tuple)\n",
    "print(f\"6. Original C_tuple: {C_tuple}\")\n",
    "print(f\"   Sorted List from C_tuple: {sorted_list_from_C_tuple}\")"
   ]
  },
  {
   "cell_type": "code",
   "execution_count": null,
   "id": "4f36a53f-37b1-449c-9d8e-fa693cb24b45",
   "metadata": {},
   "outputs": [],
   "source": []
  }
 ],
 "metadata": {
  "kernelspec": {
   "display_name": "Python [conda env:base] *",
   "language": "python",
   "name": "conda-base-py"
  },
  "language_info": {
   "codemirror_mode": {
    "name": "ipython",
    "version": 3
   },
   "file_extension": ".py",
   "mimetype": "text/x-python",
   "name": "python",
   "nbconvert_exporter": "python",
   "pygments_lexer": "ipython3",
   "version": "3.12.7"
  }
 },
 "nbformat": 4,
 "nbformat_minor": 5
}
